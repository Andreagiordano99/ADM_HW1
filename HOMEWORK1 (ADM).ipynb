{
 "cells": [
  {
   "cell_type": "markdown",
   "id": "19a8cec5",
   "metadata": {},
   "source": [
    "##### Say \"Hello, World!\" With Python"
   ]
  },
  {
   "cell_type": "code",
   "execution_count": null,
   "id": "501f7eb5",
   "metadata": {},
   "outputs": [],
   "source": [
    "if __name__ == '__main__':\n",
    "    print (\"Hello, World!\")\n"
   ]
  },
  {
   "cell_type": "markdown",
   "id": "65678a67",
   "metadata": {},
   "source": [
    "#### Python If-Else"
   ]
  },
  {
   "cell_type": "code",
   "execution_count": null,
   "id": "023e9cab",
   "metadata": {},
   "outputs": [],
   "source": [
    "\n",
    "import math\n",
    "import os\n",
    "import random\n",
    "import re\n",
    "import sys\n",
    "\n",
    "\n",
    "\n",
    "if __name__ == '__main__':\n",
    "    n = int(raw_input().strip())\n",
    "\n",
    "if((n%2!=0) or (n%2==0 and n>=6 and n<=20)):\n",
    "    print(\"Weird\")\n",
    "elif((n%2==0 and n>=2 and n<=5) or (n%2==0 and n>=20)):\n",
    "    print(\"Not Weird\")    \n",
    "\n",
    "    \n"
   ]
  },
  {
   "cell_type": "markdown",
   "id": "e4211520",
   "metadata": {},
   "source": [
    "#### Arithmetic Operators"
   ]
  },
  {
   "cell_type": "code",
   "execution_count": null,
   "id": "55468e46",
   "metadata": {},
   "outputs": [],
   "source": [
    "if __name__ == '__main__':\n",
    "    a = int(raw_input())\n",
    "    b = int(raw_input())\n",
    "    \n",
    "print(a+b)\n",
    "print(a-b)\n",
    "print(a*b)    \n"
   ]
  },
  {
   "cell_type": "markdown",
   "id": "33e2b543",
   "metadata": {},
   "source": [
    "#### Python: Division"
   ]
  },
  {
   "cell_type": "code",
   "execution_count": null,
   "id": "1cbd3152",
   "metadata": {},
   "outputs": [],
   "source": [
    "from __future__ import division\n",
    "\n",
    "if __name__ == '__main__':\n",
    "    a = int(raw_input())\n",
    "    b = int(raw_input())\n",
    "\n",
    "print(a//b)\n",
    "print(a/b)"
   ]
  },
  {
   "cell_type": "markdown",
   "id": "62ec0c6c",
   "metadata": {},
   "source": [
    "#### Loops"
   ]
  },
  {
   "cell_type": "code",
   "execution_count": null,
   "id": "f0ecb91a",
   "metadata": {},
   "outputs": [],
   "source": [
    "if __name__ == '__main__':\n",
    "    n = int(raw_input())\n",
    "    \n",
    "for i in range(n):\n",
    "    print(i**2)"
   ]
  },
  {
   "cell_type": "markdown",
   "id": "12732d59",
   "metadata": {},
   "source": [
    "#### Write a function"
   ]
  },
  {
   "cell_type": "code",
   "execution_count": null,
   "id": "9c7c7ca4",
   "metadata": {},
   "outputs": [],
   "source": [
    "def is_leap(year):\n",
    "    leap = False\n",
    "    \n",
    "    if(year%4==0):\n",
    "        if(year%100!=0 or year%400==0):\n",
    "           leap=True\n",
    "           \n",
    "    return leap\n",
    "\n",
    "year = int(raw_input())\n",
    "print is_leap(year)"
   ]
  },
  {
   "cell_type": "markdown",
   "id": "6fa6e720",
   "metadata": {},
   "source": [
    "#### Print Function"
   ]
  },
  {
   "cell_type": "code",
   "execution_count": 2,
   "id": "22da4c3a",
   "metadata": {},
   "outputs": [
    {
     "data": {
      "text/plain": [
       "'34'"
      ]
     },
     "execution_count": 2,
     "metadata": {},
     "output_type": "execute_result"
    }
   ],
   "source": [
    "from __future__ import print_function\n",
    "\n",
    "if __name__ == '__main__':\n",
    "    n = int(raw_input())\n",
    "\n",
    "i=1\n",
    "s=\"\"\n",
    "while i<=n:\n",
    "    s=s+str(i)\n",
    "    i=i+1\n",
    "print(s)    "
   ]
  },
  {
   "cell_type": "markdown",
   "id": "a50bb54c",
   "metadata": {},
   "source": [
    "#### List Comprehensions"
   ]
  },
  {
   "cell_type": "code",
   "execution_count": null,
   "id": "73ebad0a",
   "metadata": {},
   "outputs": [],
   "source": [
    "if __name__ == '__main__':\n",
    "    x = int(raw_input())\n",
    "    y = int(raw_input())\n",
    "    z = int(raw_input())\n",
    "    n = int(raw_input())\n",
    "    \n",
    "print([[a,b,c] for a in range(0,x+1) for b in range (0,y+1) for c in range (0,z+1) if a+b+c!=n])"
   ]
  },
  {
   "cell_type": "markdown",
   "id": "524fd3d2",
   "metadata": {},
   "source": [
    "#### Find the Runner-Up Score!"
   ]
  },
  {
   "cell_type": "code",
   "execution_count": 13,
   "id": "9e022443",
   "metadata": {},
   "outputs": [
    {
     "ename": "NameError",
     "evalue": "name 'raw_input' is not defined",
     "output_type": "error",
     "traceback": [
      "\u001b[1;31m---------------------------------------------------------------------------\u001b[0m",
      "\u001b[1;31mNameError\u001b[0m                                 Traceback (most recent call last)",
      "\u001b[1;32m<ipython-input-13-1a6114501b1a>\u001b[0m in \u001b[0;36m<module>\u001b[1;34m\u001b[0m\n\u001b[0;32m      1\u001b[0m \u001b[1;32mif\u001b[0m \u001b[0m__name__\u001b[0m \u001b[1;33m==\u001b[0m \u001b[1;34m'__main__'\u001b[0m\u001b[1;33m:\u001b[0m\u001b[1;33m\u001b[0m\u001b[1;33m\u001b[0m\u001b[0m\n\u001b[1;32m----> 2\u001b[1;33m     \u001b[0mn\u001b[0m \u001b[1;33m=\u001b[0m \u001b[0mint\u001b[0m\u001b[1;33m(\u001b[0m\u001b[0mraw_input\u001b[0m\u001b[1;33m(\u001b[0m\u001b[1;33m)\u001b[0m\u001b[1;33m)\u001b[0m\u001b[1;33m\u001b[0m\u001b[1;33m\u001b[0m\u001b[0m\n\u001b[0m\u001b[0;32m      3\u001b[0m     \u001b[0marr\u001b[0m \u001b[1;33m=\u001b[0m \u001b[0mmap\u001b[0m\u001b[1;33m(\u001b[0m\u001b[0mint\u001b[0m\u001b[1;33m,\u001b[0m \u001b[0mraw_input\u001b[0m\u001b[1;33m(\u001b[0m\u001b[1;33m)\u001b[0m\u001b[1;33m.\u001b[0m\u001b[0msplit\u001b[0m\u001b[1;33m(\u001b[0m\u001b[1;33m)\u001b[0m\u001b[1;33m)\u001b[0m\u001b[1;33m\u001b[0m\u001b[1;33m\u001b[0m\u001b[0m\n\u001b[0;32m      4\u001b[0m \u001b[1;33m\u001b[0m\u001b[0m\n\u001b[0;32m      5\u001b[0m \u001b[0mprimo\u001b[0m\u001b[1;33m=\u001b[0m\u001b[1;33m-\u001b[0m\u001b[1;36m100\u001b[0m\u001b[1;33m\u001b[0m\u001b[1;33m\u001b[0m\u001b[0m\n",
      "\u001b[1;31mNameError\u001b[0m: name 'raw_input' is not defined"
     ]
    }
   ],
   "source": [
    "if __name__ == '__main__':\n",
    "    n = int(raw_input())\n",
    "    arr = map(int, raw_input().split())\n",
    " \n",
    "primo=-100\n",
    "secondo=-100\n",
    "for i in range(n):\n",
    "    if (arr[i]>primo):\n",
    "        secondo=primo\n",
    "        primo=arr[i]\n",
    "    if (arr[i]>secondo and arr[i]<primo):\n",
    "        secondo=arr[i]    \n",
    "print(secondo)"
   ]
  },
  {
   "cell_type": "markdown",
   "id": "801f1ec5",
   "metadata": {},
   "source": [
    "#### Nested Lists"
   ]
  },
  {
   "cell_type": "code",
   "execution_count": 14,
   "id": "c7100d38",
   "metadata": {},
   "outputs": [
    {
     "ename": "TypeError",
     "evalue": "'float' object is not iterable",
     "output_type": "error",
     "traceback": [
      "\u001b[1;31m---------------------------------------------------------------------------\u001b[0m",
      "\u001b[1;31mTypeError\u001b[0m                                 Traceback (most recent call last)",
      "\u001b[1;32m<ipython-input-14-a3f1f1be18d8>\u001b[0m in \u001b[0;36m<module>\u001b[1;34m\u001b[0m\n\u001b[0;32m      2\u001b[0m \u001b[0msorted\u001b[0m\u001b[1;33m(\u001b[0m\u001b[0mscore\u001b[0m\u001b[1;33m)\u001b[0m\u001b[1;33m\u001b[0m\u001b[1;33m\u001b[0m\u001b[0m\n\u001b[0;32m      3\u001b[0m \u001b[0mscore\u001b[0m\u001b[1;33m=\u001b[0m\u001b[1;36m1.5\u001b[0m\u001b[1;33m\u001b[0m\u001b[1;33m\u001b[0m\u001b[0m\n\u001b[1;32m----> 4\u001b[1;33m \u001b[0mlist\u001b[0m\u001b[1;33m(\u001b[0m\u001b[0mscore\u001b[0m\u001b[1;33m)\u001b[0m\u001b[1;33m\u001b[0m\u001b[1;33m\u001b[0m\u001b[0m\n\u001b[0m",
      "\u001b[1;31mTypeError\u001b[0m: 'float' object is not iterable"
     ]
    }
   ],
   "source": [
    "if __name__ == '__main__':\n",
    "    n=int(raw_input())\n",
    "    name=[]\n",
    "    score=[]\n",
    "    for _ in range(n):\n",
    "        name.append(raw_input())\n",
    "        score.append(float(raw_input()))        \n",
    "\n",
    "c=dict(zip(name,score))\n",
    "val=sorted(set(score))[1]\n",
    "k=[]\n",
    "for i in range(len(name)):\n",
    "    if c[name[i]]==val:\n",
    "       k.append(name[i])\n",
    "k=sorted(k)\n",
    "for i in range(len(k)):\n",
    "    print(k[i])\n"
   ]
  },
  {
   "cell_type": "markdown",
   "id": "67c8d351",
   "metadata": {},
   "source": [
    "#### Finding the percentage"
   ]
  },
  {
   "cell_type": "code",
   "execution_count": null,
   "id": "85c95679",
   "metadata": {},
   "outputs": [],
   "source": [
    "if __name__ == '__main__':\n",
    "    n = int(raw_input())\n",
    "    student_marks = {}\n",
    "    for _ in range(n):\n",
    "        line = raw_input().split()\n",
    "        name, scores = line[0], line[1:]\n",
    "        scores = map(float, scores)\n",
    "        student_marks[name] = scores\n",
    "        query_name = raw_input()\n",
    "        \n",
    "s=(student_marks[query_name][0]+student_marks[query_name][1]+student_marks[query_name][2])/3\n",
    "print(s)"
   ]
  },
  {
   "cell_type": "markdown",
   "id": "99b3c577",
   "metadata": {},
   "source": [
    "#### Finding the percentage"
   ]
  },
  {
   "cell_type": "code",
   "execution_count": null,
   "id": "955a4935",
   "metadata": {},
   "outputs": [],
   "source": [
    "N = int(raw_input())\n",
    "    \n",
    "l=[];\n",
    "for i in range(0,N):\n",
    "    x=raw_input().split()\n",
    "    if x[0]==\"print\":\n",
    "        print(l)\n",
    "    elif x[0]==\"append\":\n",
    "        l.append(int(x[1]))\n",
    "    elif x[0]==\"sort\":\n",
    "        l.sort();\n",
    "    elif x[0]==\"pop\":\n",
    "        l.pop() ;\n",
    "    elif x[0]==\"insert\":\n",
    "        l.insert(int(x[1]),int(x[2]))\n",
    "    elif x[0]==\"remove\":\n",
    "        l.remove(int(x[1]))\n",
    "    else:\n",
    "        l.reverse();"
   ]
  },
  {
   "cell_type": "markdown",
   "id": "67445475",
   "metadata": {},
   "source": [
    "#### Tuples"
   ]
  },
  {
   "cell_type": "code",
   "execution_count": null,
   "id": "225355f9",
   "metadata": {},
   "outputs": [],
   "source": [
    "if __name__ == '__main__':\n",
    "    n = int(raw_input())\n",
    "    integer_list = map(int, raw_input().split())\n",
    "\n",
    "t = tuple(integer_list)\n",
    "print(hash(t));"
   ]
  },
  {
   "cell_type": "markdown",
   "id": "19a8b651",
   "metadata": {},
   "source": [
    "#### sWAP cASE"
   ]
  },
  {
   "cell_type": "code",
   "execution_count": null,
   "id": "fe9573dd",
   "metadata": {},
   "outputs": [],
   "source": [
    "def swap_case(s):\n",
    "    x = '';\n",
    "    for i in s:\n",
    "        if(i.isupper()==True):\n",
    "            x += (i.lower());\n",
    "        elif(i.islower()==True):\n",
    "            x += (i.upper());\n",
    "        else:\n",
    "            x += i;\n",
    "    return x;\n",
    "\n",
    "if __name__ == '__main__':\n",
    "    s = raw_input()\n",
    "    result = swap_case(s)\n",
    "    print result"
   ]
  },
  {
   "cell_type": "markdown",
   "id": "56a12c41",
   "metadata": {},
   "source": [
    "#### String Split and Join"
   ]
  },
  {
   "cell_type": "code",
   "execution_count": null,
   "id": "deaa47ec",
   "metadata": {},
   "outputs": [],
   "source": [
    "def split_and_join(line):\n",
    "    line=line.split(\" \")\n",
    "    line = \"-\".join(line)\n",
    "    return(line)\n",
    "\n",
    "if __name__ == '__main__':\n",
    "    line = raw_input()\n",
    "    result = split_and_join(line)\n",
    "    print result"
   ]
  },
  {
   "cell_type": "markdown",
   "id": "89784b51",
   "metadata": {},
   "source": [
    "#### What's Your Name?"
   ]
  },
  {
   "cell_type": "code",
   "execution_count": null,
   "id": "532252fe",
   "metadata": {},
   "outputs": [],
   "source": [
    "def print_full_name(first, last):\n",
    "    s=(\"Hello\"+\" \"+first+\" \"+last+\"! You just delved into python.\")\n",
    "    print(s)\n",
    "\n",
    "if __name__ == '__main__':\n",
    "    first_name = raw_input()\n",
    "    last_name = raw_input()\n",
    "    print_full_name(first_name, last_name)"
   ]
  },
  {
   "cell_type": "markdown",
   "id": "7e7cd0fe",
   "metadata": {},
   "source": [
    "#### Mutation"
   ]
  },
  {
   "cell_type": "code",
   "execution_count": null,
   "id": "1b3be825",
   "metadata": {},
   "outputs": [],
   "source": [
    "def mutate_string(string, position, character):\n",
    "    mutate=string[:position]+character+string[position+1:]\n",
    "    return mutate\n",
    "\n",
    "if __name__ == '__main__':\n",
    "    s = raw_input()\n",
    "    i, c = raw_input().split()\n",
    "    s_new = mutate_string(s, int(i), c)\n",
    "    print s_new"
   ]
  },
  {
   "cell_type": "markdown",
   "id": "d6f44966",
   "metadata": {},
   "source": [
    "#### Find a string"
   ]
  },
  {
   "cell_type": "code",
   "execution_count": null,
   "id": "ed407743",
   "metadata": {},
   "outputs": [],
   "source": [
    "def count_substring(string, sub_string):\n",
    "    c=0\n",
    "    for i in range(len(string)-len(sub_string)+1):\n",
    "       if (string[i:i+len(sub_string)]==sub_string):\n",
    "        c += 1\n",
    "    return c\n",
    "            \n",
    "    \n",
    "    return\n",
    "\n",
    "if __name__ == '__main__':\n",
    "    string = raw_input().strip()\n",
    "    sub_string = raw_input().strip()\n",
    "    \n",
    "    count = count_substring(string, sub_string)\n",
    "    print count"
   ]
  },
  {
   "cell_type": "markdown",
   "id": "659541d6",
   "metadata": {},
   "source": [
    "#### String Validators"
   ]
  },
  {
   "cell_type": "code",
   "execution_count": 2,
   "id": "1e9efa97",
   "metadata": {},
   "outputs": [
    {
     "data": {
      "text/plain": [
       "'n'"
      ]
     },
     "execution_count": 2,
     "metadata": {},
     "output_type": "execute_result"
    }
   ],
   "source": [
    "def a(s):\n",
    "    for i in range(len(s)):\n",
    "        if(s[i].isalnum()):\n",
    "            return True;\n",
    "            break;\n",
    "    return False;\n",
    "        \n",
    "def b(s):\n",
    "    for i in range(len(s)):\n",
    "        if(s[i].isalpha()):\n",
    "            return True;\n",
    "            break;\n",
    "    return False;\n",
    "\n",
    "def c(s):\n",
    "    for i in range(len(s)):\n",
    "        if(s[i].isdigit()):\n",
    "            return True;\n",
    "            break;\n",
    "    return False;\n",
    "\n",
    "def d(s):\n",
    "    for i in range(len(s)):\n",
    "        if(s[i].islower()):\n",
    "            return True;\n",
    "            break;\n",
    "    return False; \n",
    "     \n",
    "def e(s):\n",
    "    for i in range(len(s)):\n",
    "        if(s[i].isupper()):\n",
    "            return True;\n",
    "            break;\n",
    "    return False;\n",
    " \n",
    "    \n",
    "if __name__ == '__main__':\n",
    "    s = raw_input()\n",
    "    \n",
    "\n",
    "    flag= a(s)\n",
    "    alpha = b(s)\n",
    "    dig = c(s)\n",
    "    lower = d(s)\n",
    "    upper = e(s)\n",
    "    print(flag)\n",
    "    print(alpha)\n",
    "    print(dig)\n",
    "    print(lower)\n",
    "    print(upper)\n"
   ]
  },
  {
   "cell_type": "markdown",
   "id": "ee75227e",
   "metadata": {},
   "source": [
    "#### String Validators"
   ]
  },
  {
   "cell_type": "code",
   "execution_count": null,
   "id": "02e972fb",
   "metadata": {},
   "outputs": [],
   "source": [
    "thickness = int(input()) #This must be an odd number\n",
    "c = 'H'\n",
    "\n",
    "for i in range(thickness):\n",
    "    print((c*i).rjust(thickness-1)+c+(c*i).ljust(thickness-1))\n",
    "\n",
    "for i in range(thickness+1):\n",
    "    print((c*thickness).center(thickness*2)+(c*thickness).center(thickness*6))\n",
    "\n",
    "for i in range((thickness+1)//2):\n",
    "    print((c*thickness*5).center(thickness*6))    \n",
    "\n",
    "for i in range(thickness+1):\n",
    "    print((c*thickness).center(thickness*2)+(c*thickness).center(thickness*6))    \n",
    "\n",
    "for i in range(thickness):\n",
    "    print(((c*(thickness-i-1)).rjust(thickness)+c+(c*(thickness-i-1)).ljust(thickness)).rjust(thickness*6))"
   ]
  },
  {
   "cell_type": "markdown",
   "id": "a8033849",
   "metadata": {},
   "source": [
    "#### Text Wrap"
   ]
  },
  {
   "cell_type": "code",
   "execution_count": null,
   "id": "44bbe9d4",
   "metadata": {},
   "outputs": [],
   "source": [
    "import textwrap\n",
    "\n",
    "def wrap(string, max_width):\n",
    "    return textwrap.TextWrapper(width=max_width).fill(text=string)\n",
    "\n",
    "if __name__ == '__main__':\n",
    "    string, max_width = raw_input(), int(raw_input())\n",
    "    result = wrap(string, max_width)\n",
    "    print result"
   ]
  },
  {
   "cell_type": "markdown",
   "id": "7d4d4270",
   "metadata": {},
   "source": [
    "#### Designer Door Mat"
   ]
  },
  {
   "cell_type": "code",
   "execution_count": null,
   "id": "ed3ec3d3",
   "metadata": {},
   "outputs": [],
   "source": [
    "N, M = map(int,input().split())\n",
    "for i in range(1,N,2): \n",
    "    print((i * \".|.\").center(M, \"-\"))\n",
    "print(\"WELCOME\".center(M,\"-\"))\n",
    "for i in range(N-2,-1,-2): \n",
    "    print((i * \".|.\").center(M, \"-\"))"
   ]
  },
  {
   "cell_type": "markdown",
   "id": "3167c665",
   "metadata": {},
   "source": [
    "#### String Formatting"
   ]
  },
  {
   "cell_type": "code",
   "execution_count": null,
   "id": "2ac18e2a",
   "metadata": {},
   "outputs": [],
   "source": [
    "\n",
    "rows,columns = map(int,input().split())\n",
    "middle = rows//2+1\n",
    "for i in range(1,middle):\n",
    "    center = (i*2-1)*\".|.\"\n",
    "    print(center.center(columns,\"-\"))\n",
    "print(\"WELCOME\".center(columns,\"-\"))\n",
    "for i in reversed(range(1,middle)):\n",
    "    center = (i*2-1)*\".|.\"\n",
    "    print(center.center(columns,\"-\"))"
   ]
  },
  {
   "cell_type": "markdown",
   "id": "1df0a8e6",
   "metadata": {},
   "source": [
    "#### Alphabet Rangoli"
   ]
  },
  {
   "cell_type": "code",
   "execution_count": null,
   "id": "b32464c9",
   "metadata": {},
   "outputs": [],
   "source": [
    "def print_rangoli(size):\n",
    "    width  = size*4-3\n",
    "    string = ''\n",
    "    for i in range(1,size+1):\n",
    "        for j in range(0,i):\n",
    "            string += chr(96+size-j)\n",
    "            if len(string) < width :\n",
    "                string += '-'\n",
    "        for k in range(i-1,0,-1):    \n",
    "            string += chr(97+size-k)\n",
    "            if len(string) < width :\n",
    "                string += '-'\n",
    "        print(string.center(width,'-'))\n",
    "        string = ''\n",
    "\n",
    "    for i in range(size-1,0,-1):\n",
    "        string = ''\n",
    "        for j in range(0,i):\n",
    "            string += chr(96+size-j)\n",
    "            if len(string) < width :\n",
    "                string += '-'\n",
    "        for k in range(i-1,0,-1):\n",
    "            string += chr(97+size-k)\n",
    "            if len(string) < width :\n",
    "                string += '-'\n",
    "        print(string.center(width,'-'))\n",
    "        \n",
    "\n",
    "if __name__ == '__main__':"
   ]
  },
  {
   "cell_type": "markdown",
   "id": "04a6755a",
   "metadata": {},
   "source": [
    "#### Capitalize!"
   ]
  },
  {
   "cell_type": "code",
   "execution_count": 5,
   "id": "0f7d4f21",
   "metadata": {},
   "outputs": [
    {
     "data": {
      "text/plain": [
       "['a', 'n', 'd', 'r', 'e', 'a']"
      ]
     },
     "execution_count": 5,
     "metadata": {},
     "output_type": "execute_result"
    }
   ],
   "source": [
    "# Complete the solve function below.\n",
    "def solve(s):\n",
    "    for i in s.split():\n",
    "        s = s.replace(i,i.capitalize())\n",
    "    return s    \n",
    "\n",
    "if __name__ == '__main__':\n",
    "    fptr = open(os.environ['OUTPUT_PATH'], 'w')\n",
    "\n",
    "    s = raw_input()\n",
    "\n",
    "    result = solve(s)\n",
    "\n",
    "    fptr.write(result + '\\n')\n",
    "\n",
    "    fptr.close()"
   ]
  },
  {
   "cell_type": "markdown",
   "id": "80082d61",
   "metadata": {},
   "source": [
    "#### The Minion Game"
   ]
  },
  {
   "cell_type": "code",
   "execution_count": null,
   "id": "ad0ab943",
   "metadata": {},
   "outputs": [],
   "source": [
    "def minion_game(string):\n",
    "    lista = set(['a','e','i','o','u','A','E','I','O','U'])\n",
    "    consonanti = 0\n",
    "    voc = 0\n",
    "\n",
    "    n = len(string)\n",
    "    for i, l in enumerate(string):\n",
    "        if l in lista:\n",
    "            voc += n-i\n",
    "        else:\n",
    "            consonanti += n-i\n",
    "\n",
    "    if voc == consonanti:\n",
    "        print \"Draw\"\n",
    "    elif voc > consonanti:\n",
    "        print \"Kevin {}\".format(voc)\n",
    "    else:\n",
    "        print \"Stuart {}\".format(consonanti)\n",
    "\n",
    "if _name_ == '_main_':\n",
    "    s = raw_input()\n",
    "    minion_game(s)\n",
    "\n",
    "#i looked at the solution for this exercise"
   ]
  },
  {
   "cell_type": "markdown",
   "id": "2a2e281e",
   "metadata": {},
   "source": [
    "#### Merge the Tools!"
   ]
  },
  {
   "cell_type": "code",
   "execution_count": null,
   "id": "185c31c6",
   "metadata": {},
   "outputs": [],
   "source": [
    "from collections import OrderedDict\n",
    "def merge_the_tools(string, j):\n",
    "    # your code goes here\n",
    "    lun = len(string)\n",
    "    for i in range(0,lun,j):\n",
    "        print(''.join(OrderedDict.fromkeys(string[i:i + j])))\n",
    "\n",
    "\n",
    "if __name__ == '__main__':\n",
    "    string, k = input(), int(input())\n",
    "    merge_the_tools(string, k)"
   ]
  },
  {
   "cell_type": "markdown",
   "id": "24fbc708",
   "metadata": {},
   "source": [
    "#### Introduction to Sets"
   ]
  },
  {
   "cell_type": "code",
   "execution_count": null,
   "id": "368da7f3",
   "metadata": {},
   "outputs": [],
   "source": [
    "from __future__ import division\n",
    "\n",
    "def average(arr):\n",
    "    return sum(set(arr))/len(set(arr))\n",
    "\n",
    "if __name__ == '__main__':\n",
    "    n = int(raw_input())\n",
    "    arr = map(int, raw_input().split())\n",
    "    result = average(arr)\n",
    "    print result"
   ]
  },
  {
   "cell_type": "markdown",
   "id": "f711d426",
   "metadata": {},
   "source": [
    "#### No Idea!"
   ]
  },
  {
   "cell_type": "code",
   "execution_count": null,
   "id": "c4c43b04",
   "metadata": {},
   "outputs": [],
   "source": [
    "# Enter your code here. Read input from STDIN. Print output to STDOUT\n",
    "\n",
    "n=raw_input()\n",
    "a= raw_input()\n",
    "a=a.split()\n",
    "n1=raw_input()\n",
    "b= raw_input()\n",
    "b=b.split()\n",
    "\n",
    "set_a=set(a)\n",
    "set_b=set(b)\n",
    "\n",
    "x= set_a.union(set_b)-set_a.intersection(set_b)\n",
    "print('\\n'.join(sorted(x, key=int)))"
   ]
  },
  {
   "cell_type": "markdown",
   "id": "a0caf832",
   "metadata": {},
   "source": [
    "#### Symmetric Difference"
   ]
  },
  {
   "cell_type": "code",
   "execution_count": null,
   "id": "6f63ba31",
   "metadata": {},
   "outputs": [],
   "source": [
    "# Enter your code here. Read input from STDIN. Print output to STDOUT\n",
    "\n",
    "k = raw_input().split()\n",
    "m = int(k[0])\n",
    "n = int(k[1])\n",
    "\n",
    "lis = list()\n",
    "count = 0\n",
    "\n",
    "lis = list(map(int, raw_input().strip().split()))\n",
    "\n",
    "A = set(map(int, raw_input().strip().split()))\n",
    "B = set(map(int, raw_input().strip().split()))\n",
    "\n",
    "for i in lis:\n",
    "    if i in A:\n",
    "        count = count+1\n",
    "    if i in B:\n",
    "        count = count-1\n",
    "\n",
    "print(count)"
   ]
  },
  {
   "cell_type": "markdown",
   "id": "5ec7cd22",
   "metadata": {},
   "source": [
    "#### Set .add()"
   ]
  },
  {
   "cell_type": "code",
   "execution_count": 13,
   "id": "1c570c91",
   "metadata": {},
   "outputs": [
    {
     "name": "stdout",
     "output_type": "stream",
     "text": [
      "['Andrea', 'Giordano', 'luca', 'luca']\n",
      "{'Giordano', 'luca', 'Andrea'}\n",
      "3\n"
     ]
    }
   ],
   "source": [
    "N = int(input())\n",
    "nazioni = set()\n",
    "for i in range(N):\n",
    "    nazioni.add(input())\n",
    "print(len(nazioni))"
   ]
  },
  {
   "cell_type": "markdown",
   "id": "483ad0a7",
   "metadata": {},
   "source": [
    "#### Set .discard(), .remove() & .pop()"
   ]
  },
  {
   "cell_type": "code",
   "execution_count": null,
   "id": "aaf7cc9d",
   "metadata": {},
   "outputs": [],
   "source": [
    "n = int(input())\n",
    "s = set(map(int,input().split()))\n",
    "comandi = int(input())\n",
    "for i in range(comandi):\n",
    "    inp = input().split()\n",
    "    if inp[0]==\"remove\":\n",
    "        s.remove(int(inp[1]))\n",
    "    elif inp[0]==\"discard\":\n",
    "        s.discard(int(inp[1]))\n",
    "    else :\n",
    "        s.pop()\n",
    "print(sum(list(s)))"
   ]
  },
  {
   "cell_type": "markdown",
   "id": "35a49871",
   "metadata": {},
   "source": [
    "#### Set .union() Operation"
   ]
  },
  {
   "cell_type": "code",
   "execution_count": null,
   "id": "b8eec478",
   "metadata": {},
   "outputs": [],
   "source": [
    "n_en=int(raw_input())\n",
    "en=set(map(int, raw_input().split()))\n",
    "n_fr=int(raw_input())\n",
    "fr=set(map(int, raw_input().split()))\n",
    "\n",
    "print(len(en.union(fr)))"
   ]
  },
  {
   "cell_type": "markdown",
   "id": "ed17d27e",
   "metadata": {},
   "source": [
    "#### Set .intersection() Operation"
   ]
  },
  {
   "cell_type": "code",
   "execution_count": null,
   "id": "d032dd0e",
   "metadata": {},
   "outputs": [],
   "source": [
    "n_en=int(raw_input())\n",
    "en=set(map(int, raw_input().split()))\n",
    "n_fr=int(raw_input())\n",
    "fr=set(map(int, raw_input().split()))\n",
    "\n",
    "print(len(en.intersection(fr)))"
   ]
  },
  {
   "cell_type": "markdown",
   "id": "89eee895",
   "metadata": {},
   "source": [
    "#### Set .difference() Operation"
   ]
  },
  {
   "cell_type": "code",
   "execution_count": null,
   "id": "ac3e9f43",
   "metadata": {},
   "outputs": [],
   "source": [
    "n_en=int(raw_input())\n",
    "en=set(map(int, raw_input().split()))\n",
    "n_fr=int(raw_input())\n",
    "fr=set(map(int, raw_input().split()))\n",
    "\n",
    "print(len(en.difference(fr)))"
   ]
  },
  {
   "cell_type": "markdown",
   "id": "da7caa22",
   "metadata": {},
   "source": [
    "#### Set .symmetric_difference() Operation"
   ]
  },
  {
   "cell_type": "code",
   "execution_count": null,
   "id": "c3ba2076",
   "metadata": {},
   "outputs": [],
   "source": [
    "n_en=int(raw_input())\n",
    "en=set(map(int, raw_input().split()))\n",
    "n_fr=int(raw_input())\n",
    "fr=set(map(int, raw_input().split()))\n",
    "\n",
    "print(len(en.symmetric_difference(fr)))"
   ]
  },
  {
   "cell_type": "markdown",
   "id": "8e97b817",
   "metadata": {},
   "source": [
    "#### Set Mutations"
   ]
  },
  {
   "cell_type": "code",
   "execution_count": null,
   "id": "0159296b",
   "metadata": {},
   "outputs": [],
   "source": [
    "len = int(input())\n",
    "\n",
    "setone = set(map(int, input().split()))\n",
    "\n",
    "op_len = int(input())\n",
    "\n",
    "for i in range(op_len):\n",
    "    p = input().split()\n",
    "    if p[0] == 'intersection_update':\n",
    "        temp_setone = set(map(int, input().split()))\n",
    "        setone.intersection_update(temp_setone)\n",
    "    elif p[0] == 'update':\n",
    "        temp_setone = set(map(int, input().split()))\n",
    "        setone.update(temp_setone)\n",
    "    elif p[0] == 'symmetric_difference_update':\n",
    "        temp_setone = set(map(int, input().split()))\n",
    "        setone.symmetric_difference_update(temp_setone)\n",
    "    elif p[0] == 'difference_update':\n",
    "        temp_setone = set(map(int, input().split()))\n",
    "        setone.difference_update(temp_setone)\n",
    "    else :\n",
    "        assert False\n",
    "\n",
    "print(sum(setone))"
   ]
  },
  {
   "cell_type": "markdown",
   "id": "eb1957a9",
   "metadata": {},
   "source": [
    "#### The Captain's Room"
   ]
  },
  {
   "cell_type": "code",
   "execution_count": 5,
   "id": "b438936f",
   "metadata": {},
   "outputs": [
    {
     "name": "stdout",
     "output_type": "stream",
     "text": [
      "2\n",
      "4\n"
     ]
    }
   ],
   "source": [
    "k=raw_input()\n",
    "stanza=list(map(int,raw_input().split()))\n",
    "stanza = sorted(stanza)\n",
    "\n",
    "for i in range(len(stanza)):\n",
    "    if(i != len(stanza)-1):\n",
    "        if(stanza[i]!=stanza[i-1] and stanza[i]!=stanza[i+1]):\n",
    "            print(stanza[i])\n",
    "            break;\n",
    "    else:\n",
    "        print(stanza[i])"
   ]
  },
  {
   "cell_type": "markdown",
   "id": "69c7a556",
   "metadata": {},
   "source": [
    "#### Check Subset"
   ]
  },
  {
   "cell_type": "code",
   "execution_count": null,
   "id": "deeccc1b",
   "metadata": {},
   "outputs": [],
   "source": [
    "n=int(raw_input())\n",
    "c=0\n",
    "\n",
    "for i in range(n):\n",
    "    nA=int(raw_input())\n",
    "    A=set(map(int,raw_input().split()))\n",
    "    nB=int(raw_input())\n",
    "    B=set(map(int,raw_input().split()))\n",
    "    print(A.issubset(B))"
   ]
  },
  {
   "cell_type": "markdown",
   "id": "3a84dc9a",
   "metadata": {},
   "source": [
    "#### Check Strict Superset"
   ]
  },
  {
   "cell_type": "code",
   "execution_count": null,
   "id": "e828d213",
   "metadata": {},
   "outputs": [],
   "source": [
    "setA = set(raw_input().split())\n",
    "N = int(raw_input())\n",
    "res = True\n",
    "\n",
    "for i in range(N):\n",
    "    setA2 = set(raw_input().split())\n",
    "    if setA2.issubset(setA)==False:\n",
    "        res = False\n",
    "    if len(setA2) >= len(setA):\n",
    "        res = False\n",
    "\n",
    "print(res)\n"
   ]
  },
  {
   "cell_type": "markdown",
   "id": "52c13324",
   "metadata": {},
   "source": [
    "#### collections.Counter()\n",
    "\n"
   ]
  },
  {
   "cell_type": "code",
   "execution_count": null,
   "id": "adf3a79d",
   "metadata": {},
   "outputs": [],
   "source": [
    "from collections import Counter\n",
    "\n",
    "num_scarpe = int(input())\n",
    "taglia_scarpe = Counter(map(int, input().split()))\n",
    "num_domanda= int(input())\n",
    "\n",
    "cost = 0\n",
    "for _ in range(num_domanda):\n",
    "    size, price = map(int, input().split())\n",
    "    if taglia_scarpe[size]:\n",
    "        cost += price\n",
    "        taglia_scarpe[size] -= 1\n",
    "\n",
    "print(cost)"
   ]
  },
  {
   "cell_type": "markdown",
   "id": "46b22ad0",
   "metadata": {},
   "source": [
    "#### DefaultDict Tutorial"
   ]
  },
  {
   "cell_type": "code",
   "execution_count": null,
   "id": "55eda087",
   "metadata": {},
   "outputs": [],
   "source": [
    "from collections import defaultdict\n",
    "\n",
    "n, m = map(int,input().split())\n",
    "\n",
    "a = defaultdict(list)\n",
    "for i in range(1, n + 1):\n",
    "    a[input()].append(i)\n",
    "\n",
    "for i in range(1, m + 1):\n",
    "    k = input()\n",
    "    if len(a[k]) > 0:\n",
    "        print(\" \".join(str(c) for c in a[k]))\n",
    "    else:\n",
    "        print(-1)"
   ]
  },
  {
   "cell_type": "markdown",
   "id": "f894ae11",
   "metadata": {},
   "source": [
    "#### Collections.namedtuple()"
   ]
  },
  {
   "cell_type": "code",
   "execution_count": null,
   "id": "6da3f722",
   "metadata": {},
   "outputs": [],
   "source": [
    "from collections import namedtuple\n",
    "\n",
    "n = int(input())\n",
    "att = input().split()\n",
    "\n",
    "somma = 0\n",
    "for _ in range(n):\n",
    "    students = namedtuple('student', att)\n",
    "    MARKS, CLASS, NAME, ID = input().split()\n",
    "    student = students(MARKS, CLASS, NAME, ID)\n",
    "    somma += int(student.MARKS)\n",
    "print('{:.2f}'.format(somma / n))"
   ]
  },
  {
   "cell_type": "markdown",
   "id": "a4229bfa",
   "metadata": {},
   "source": [
    "#### Collections.OrderedDict()"
   ]
  },
  {
   "cell_type": "code",
   "execution_count": null,
   "id": "15c9ae2e",
   "metadata": {},
   "outputs": [],
   "source": [
    "from collections import OrderedDict\n",
    "\n",
    "oggetto = OrderedDict()\n",
    "for _ in range(int(input())):\n",
    "    item, space, price = input().rpartition(' ')\n",
    "    oggetto[item] = oggetto.get(item, 0) + int(price)\n",
    "for item, price in oggetto.items():\n",
    "    print(item, price)"
   ]
  },
  {
   "cell_type": "markdown",
   "id": "f2ee2520",
   "metadata": {},
   "source": [
    "#### Word Order"
   ]
  },
  {
   "cell_type": "code",
   "execution_count": null,
   "id": "eb43e9ec",
   "metadata": {},
   "outputs": [],
   "source": [
    "n = int(input())\n",
    "xx = {}\n",
    "lista_parole = []\n",
    "\n",
    "for i in range(n):\n",
    "  word = input()\n",
    "  lista_parole.append(word)\n",
    "  if word in xx:\n",
    "    xx[word] += 1\n",
    "  else:\n",
    "    xx[word] = 1\n",
    "    \n",
    "print(len(xx))\n",
    "print(' '.join([str(xx[word]) for word in xx]))"
   ]
  },
  {
   "cell_type": "markdown",
   "id": "aab03478",
   "metadata": {},
   "source": [
    "#### Collections.deque()\n",
    "\n"
   ]
  },
  {
   "cell_type": "code",
   "execution_count": null,
   "id": "2ad250ae",
   "metadata": {},
   "outputs": [],
   "source": [
    "from collections import deque\n",
    "\n",
    "dati = deque()\n",
    "N = int(input())\n",
    "\n",
    "for i in range(N):\n",
    "    istr = input().split()\n",
    "    if(istr[0] == 'append'):\n",
    "        dati.append(istr[1])\n",
    "    elif(istr[0] == 'popleft'):\n",
    "        dati.popleft()\n",
    "    elif(istr[0] == 'appendleft'):\n",
    "        dati.appendleft(istr[1])\n",
    "    elif(istr[0] == 'pop'):\n",
    "        dati.pop()\n",
    "\n",
    "print(' '.join(dati))"
   ]
  },
  {
   "cell_type": "markdown",
   "id": "25911899",
   "metadata": {},
   "source": [
    "#### Piling Up!"
   ]
  },
  {
   "cell_type": "code",
   "execution_count": null,
   "id": "b4cb6d2b",
   "metadata": {},
   "outputs": [],
   "source": [
    "from collections import deque\n",
    "\n",
    "N = int(input())\n",
    "\n",
    "for _ in range(N):\n",
    "    f = True\n",
    "    input()\n",
    "    d = deque(map(int, input().strip().split()))\n",
    "    if(d[0] >= d[-1]):\n",
    "        max = d.popleft()\n",
    "    else:\n",
    "        max = d.pop()\n",
    "    while d:\n",
    "        if(len(d)==1):\n",
    "            if(d[0] <= max):\n",
    "                break\n",
    "            else:\n",
    "                f = False\n",
    "                break\n",
    "        else:\n",
    "            if(d[0]<=max and d[-1]<=max):\n",
    "                if(d[0]>=d[-1]):\n",
    "                    max = d.popleft()\n",
    "                else:\n",
    "                    max = d.pop()\n",
    "            elif(d[0]<=max):\n",
    "                max = d.popleft()\n",
    "            elif(d[-1]<=max):\n",
    "                max = d.pop()\n",
    "            else:\n",
    "                f = False\n",
    "                break\n",
    "    if f:\n",
    "        print(\"Yes\")\n",
    "    else:\n",
    "        print(\"No\")\n",
    "        \n",
    "#i looked at the solution for this exercise"
   ]
  },
  {
   "cell_type": "markdown",
   "id": "9ab46e20",
   "metadata": {},
   "source": [
    "#### Company logo"
   ]
  },
  {
   "cell_type": "code",
   "execution_count": null,
   "id": "9f23640a",
   "metadata": {},
   "outputs": [],
   "source": [
    "import math\n",
    "import os\n",
    "import random\n",
    "import re\n",
    "import sys\n",
    "import collections\n",
    "\n",
    "if __name__ == '__main__':\n",
    "    s = sorted(input().strip())\n",
    "    s_co = collections.Counter(s).most_common()\n",
    "    s_co = sorted(s_co, key=lambda x: (x[1] * -1, x[0]))\n",
    "    for i in range(0, 3):\n",
    "        print(s_co[i][0], s_co[i][1])\n",
    "#i looked at the solution for this exercise"
   ]
  },
  {
   "cell_type": "markdown",
   "id": "9c43bfce",
   "metadata": {},
   "source": [
    "#### Calendar Module"
   ]
  },
  {
   "cell_type": "code",
   "execution_count": null,
   "id": "4dcce61c",
   "metadata": {},
   "outputs": [],
   "source": [
    "import calendar\n",
    "\n",
    "m, d, y = map(int, input().strip().split())\n",
    "\n",
    "print(calendar.day_name[calendar.weekday(y, m, d)].upper())"
   ]
  },
  {
   "cell_type": "markdown",
   "id": "1b874094",
   "metadata": {},
   "source": [
    "#### Time delta"
   ]
  },
  {
   "cell_type": "code",
   "execution_count": null,
   "id": "4b2ad427",
   "metadata": {},
   "outputs": [],
   "source": [
    "#!/bin/python3\n",
    "\n",
    "from datetime import datetime\n",
    "\n",
    "def delta(d1,d2):\n",
    "    f= '%a %d %b %Y %H:%M:%S %z'\n",
    "    d1 = datetime.strptime(d1, f) \n",
    "    d2 = datetime.strptime(d2, f) \n",
    "    diff = (d2-d1).total_seconds()  \n",
    "    return abs(int(diff))\n",
    "\n",
    "for _ in range(int(input())):\n",
    "    print(delta(input(), input()))"
   ]
  },
  {
   "cell_type": "markdown",
   "id": "47d1e3db",
   "metadata": {},
   "source": [
    "#### Exceptions"
   ]
  },
  {
   "cell_type": "code",
   "execution_count": null,
   "id": "5c834b26",
   "metadata": {},
   "outputs": [],
   "source": [
    "for i in range(int(input())):\n",
    "    try:\n",
    "        a,b=map(int,input().split())\n",
    "        print(a//b)\n",
    "    except Exception as e:\n",
    "        print(\"Error Code:\",e)"
   ]
  },
  {
   "cell_type": "markdown",
   "id": "e2b15d74",
   "metadata": {},
   "source": [
    "#### Zipped"
   ]
  },
  {
   "cell_type": "code",
   "execution_count": null,
   "id": "5ef0235f",
   "metadata": {},
   "outputs": [],
   "source": [
    "N, X = input().split()\n",
    "\n",
    "io = list()\n",
    "\n",
    "for _ in range(int(X)):\n",
    "    ip = map(float, input().split())\n",
    "    io.append(ip)\n",
    "\n",
    "for i in zip(*io): \n",
    "    print( sum(i)/len(i) ) "
   ]
  },
  {
   "cell_type": "markdown",
   "id": "9570427b",
   "metadata": {},
   "source": [
    "#### Athlete Sort"
   ]
  },
  {
   "cell_type": "code",
   "execution_count": null,
   "id": "701ea57c",
   "metadata": {},
   "outputs": [],
   "source": [
    "import math\n",
    "import os\n",
    "import random\n",
    "import re\n",
    "import sys\n",
    "\n",
    "if __name__ == '__main__':\n",
    "    nm = input().split()\n",
    "    n = int(nm[0])\n",
    "    m = int(nm[1])\n",
    "\n",
    "    arr = []\n",
    "\n",
    "    for _ in range(n):\n",
    "        arr.append(list(map(int, input().rstrip().split())))\n",
    "    k = int(input())\n",
    "\n",
    "    # Athlete Sort in python - Hacker Rank Solution START   \n",
    "    arr.sort(key = lambda x : x[k])\n",
    "    for i in arr:\n",
    "        print(*i,sep=' ')"
   ]
  },
  {
   "cell_type": "markdown",
   "id": "70071bfd",
   "metadata": {},
   "source": [
    "#### Ginorts"
   ]
  },
  {
   "cell_type": "code",
   "execution_count": null,
   "id": "601fa037",
   "metadata": {},
   "outputs": [],
   "source": [
    "from __future__ import print_function\n",
    "\n",
    "def func(x): \n",
    "    if x.isalpha():\n",
    "        if x.isupper():\n",
    "            return (ord(x)-ord('A'))\n",
    "        else:\n",
    "            return (ord(x)-ord('a'))-30\n",
    "    else:\n",
    "        if int(x) % 2 == 0:\n",
    "            return 60+int(x)\n",
    "        else:\n",
    "            return 30+int(x)\n",
    "\n",
    "s = raw_input()        \n",
    "map(lambda x: print(x,end=''),(sorted(s,key = func)))\n",
    "#i looked at the solution for this exercise"
   ]
  },
  {
   "cell_type": "markdown",
   "id": "cae3933d",
   "metadata": {},
   "source": [
    "#### Map and Lambda Function"
   ]
  },
  {
   "cell_type": "code",
   "execution_count": null,
   "id": "4aee636b",
   "metadata": {},
   "outputs": [],
   "source": [
    "\n",
    "cube = lambda x: pow(x,3)# complete the lambda function \n",
    "def fibonacci(n):\n",
    "     # return a list of fibonacci numbers\n",
    "     lis = [0,1]\n",
    "     for i in range(2,n):\n",
    "         lis.append(lis[i-2] + lis[i-1])\n",
    "     return(lis[0:n])"
   ]
  },
  {
   "cell_type": "markdown",
   "id": "419e7cf3",
   "metadata": {},
   "source": [
    "#### Detect Floating Point Number"
   ]
  },
  {
   "cell_type": "code",
   "execution_count": null,
   "id": "c3283d9c",
   "metadata": {},
   "outputs": [],
   "source": [
    "import re\n",
    "for _ in range(input()):\n",
    "\tprint bool(re.match(r'^[-+]?[0-9]*\\.[0-9]+$', raw_input()))"
   ]
  },
  {
   "cell_type": "markdown",
   "id": "3a0e5fac",
   "metadata": {},
   "source": [
    "#### Re.split()"
   ]
  },
  {
   "cell_type": "code",
   "execution_count": null,
   "id": "e2d72c1e",
   "metadata": {},
   "outputs": [],
   "source": [
    "regex_pattern = r\"[.,]+\"\t# Do not delete 'r'.\n",
    "\n",
    "import re\n",
    "print(\"\\n\".join(re.split(regex_pattern, input())))"
   ]
  },
  {
   "cell_type": "markdown",
   "id": "903dcf45",
   "metadata": {},
   "source": [
    "#### Group(), Groups() & Groupdict()"
   ]
  },
  {
   "cell_type": "code",
   "execution_count": null,
   "id": "0ec1bf89",
   "metadata": {},
   "outputs": [],
   "source": [
    "import re\n",
    "m = re.search(r'([a-zA-Z0-9])\\1+', input().strip())\n",
    "print(m.group(1) if m else -1)"
   ]
  },
  {
   "cell_type": "markdown",
   "id": "d88fd9d1",
   "metadata": {},
   "source": [
    "#### Re.findall() & Re.finditer()"
   ]
  },
  {
   "cell_type": "code",
   "execution_count": null,
   "id": "9d8ae722",
   "metadata": {},
   "outputs": [],
   "source": [
    "import re\n",
    "v = \"aeiou\"\n",
    "c = \"qwrtypsdfghjklzxcvbnm\"\n",
    "m = re.findall(r\"(?<=[%s])([%s]{2,})[%s]\" % (c, v, c), input(), flags = re.I)\n",
    "print('\\n'.join(m or ['-1']))"
   ]
  },
  {
   "cell_type": "markdown",
   "id": "fcdd43ef",
   "metadata": {},
   "source": [
    "#### Re.start() & Re.end()"
   ]
  },
  {
   "cell_type": "code",
   "execution_count": null,
   "id": "ee656c68",
   "metadata": {},
   "outputs": [],
   "source": [
    "S = raw_input()\n",
    "k = raw_input()\n",
    "import re\n",
    "pattern = re.compile(k)\n",
    "r = pattern.search(S)\n",
    "if not r: print \"(-1, -1)\"\n",
    "while r:\n",
    "    print \"({0}, {1})\".format(r.start(), r.end() - 1)\n",
    "    r = pattern.search(S,r.start() + 1)"
   ]
  },
  {
   "cell_type": "markdown",
   "id": "d1aa55f3",
   "metadata": {},
   "source": [
    "#### Regex Substitution"
   ]
  },
  {
   "cell_type": "code",
   "execution_count": null,
   "id": "56a133a1",
   "metadata": {},
   "outputs": [],
   "source": [
    "import re\n",
    "\n",
    "for _ in range(int(input())):\n",
    "    print(re.sub(r'(?<= )(&&|\\|\\|)(?= )', lambda x: 'and' if x.group() == '&&' else 'or', input()))"
   ]
  },
  {
   "cell_type": "markdown",
   "id": "7c4a151a",
   "metadata": {},
   "source": [
    "#####  Validating Roman Numerals"
   ]
  },
  {
   "cell_type": "code",
   "execution_count": null,
   "id": "112055a9",
   "metadata": {},
   "outputs": [],
   "source": [
    "migl = 'M{0,3}'\n",
    "cent = '(C[MD]|D?C{0,3})'\n",
    "dec = '(X[CL]|L?X{0,3})'\n",
    "digit = '(I[VX]|V?I{0,3})'\n",
    "regex_pattern = r\"%s%s%s%s$\" % (migl, cent, dec, digit)    \n",
    "\n",
    "import re\n",
    "print(str(bool(re.match(regex_pattern, input()))))"
   ]
  },
  {
   "cell_type": "markdown",
   "id": "9991fbeb",
   "metadata": {},
   "source": [
    "#### Validating phone numbers"
   ]
  },
  {
   "cell_type": "code",
   "execution_count": null,
   "id": "30a2776c",
   "metadata": {},
   "outputs": [],
   "source": [
    "import re\n",
    "N=input()\n",
    "for i in range(N):\n",
    " if re.match(r'[789]\\d{9}$',raw_input()):   \n",
    "    print 'YES'  \n",
    " else:  \n",
    "    print 'NO'  "
   ]
  },
  {
   "cell_type": "markdown",
   "id": "bede421d",
   "metadata": {},
   "source": [
    "#### Validating and Parsing Email Addresses"
   ]
  },
  {
   "cell_type": "code",
   "execution_count": null,
   "id": "f770fe02",
   "metadata": {},
   "outputs": [],
   "source": [
    "import re\n",
    "n = int(input())\n",
    "for _ in range(n):\n",
    "    x, y = input().split(' ')\n",
    "    m = re.match(r'<[A-Za-z](\\w|-|\\.|_)+@[A-Za-z]+\\.[A-Za-z]{1,3}>', y)\n",
    "    if m:\n",
    "        print(x,y)"
   ]
  },
  {
   "cell_type": "markdown",
   "id": "bd4a748c",
   "metadata": {},
   "source": [
    "#### Hex Color Code"
   ]
  },
  {
   "cell_type": "code",
   "execution_count": null,
   "id": "ac867e98",
   "metadata": {},
   "outputs": [],
   "source": [
    "import re\n",
    "\n",
    "A = int(input())\n",
    "ret = False\n",
    "for _ in range(A):\n",
    "    s = input()\n",
    "    if '{' in s:\n",
    "        ret = True\n",
    "    elif '}' in s:\n",
    "        ret = False\n",
    "    elif ret:\n",
    "        for color in re.findall('#[0-9a-fA-F]{3,6}', s):\n",
    "            print(color)"
   ]
  },
  {
   "cell_type": "markdown",
   "id": "7edbd777",
   "metadata": {},
   "source": [
    "#### HTML Parser - Part 1"
   ]
  },
  {
   "cell_type": "code",
   "execution_count": null,
   "id": "b2e21abb",
   "metadata": {},
   "outputs": [],
   "source": [
    "from html.parser import HTMLParser\n",
    "\n",
    "\n",
    "class miaclasse(HTMLParser):\n",
    "    def handle_starttag(self, tag, attrs):\n",
    "        print ('Start :', tag)\n",
    "        for i in attrs:\n",
    "            print ('->', i[0], '>', i[1])\n",
    "\n",
    "    def handle_endtag(self, tag):\n",
    "        print ('End   :', tag)\n",
    "\n",
    "    def handle_startendtag(self, tag, attrs):\n",
    "        print ('Empty :', tag)\n",
    "        for i in attrs:\n",
    "            print ('->', i[0], '>', i[1])\n",
    "\n",
    "\n",
    "parser = miaclasse()\n",
    "for _ in range(int(input())):\n",
    "    parser.feed(input())"
   ]
  },
  {
   "cell_type": "markdown",
   "id": "0dceed5e",
   "metadata": {},
   "source": [
    "#### HTML Parser - Part 2"
   ]
  },
  {
   "cell_type": "code",
   "execution_count": null,
   "id": "ffd944ac",
   "metadata": {},
   "outputs": [],
   "source": [
    "from html.parser import HTMLParser\n",
    "\n",
    "\n",
    "class miaclass(HTMLParser):\n",
    "    def handle_comment(self, comment):\n",
    "        if '\\n' in comment:\n",
    "            print('>>> Multi-line Comment')\n",
    "        else:\n",
    "            print('>>> Single-line Comment')\n",
    "\n",
    "        print(comment)\n",
    "\n",
    "    def handle_data(self, data):\n",
    "        if data == '\\n': return\n",
    "        print('>>> Data')\n",
    "        print(data)\n",
    "\n",
    "\n",
    "html = \"\"\n",
    "for i in range(int(input())):\n",
    "    html += input().rstrip()\n",
    "    html += '\\n'\n",
    "\n",
    "parser = miaclass()\n",
    "parser.feed(html)\n",
    "parser.close()\n",
    "#i looked at the solution for this exercise"
   ]
  },
  {
   "cell_type": "markdown",
   "id": "c66d7cb7",
   "metadata": {},
   "source": [
    "#### Detect HTML Tags, Attributes and Attribute Values"
   ]
  },
  {
   "cell_type": "code",
   "execution_count": null,
   "id": "8c001378",
   "metadata": {},
   "outputs": [],
   "source": [
    "from html.parser import HTMLParser\n",
    "\n",
    "class miaclasse(HTMLParser):\n",
    "    def handle_starttag(self, tag, attrs):\n",
    "        print(tag)\n",
    "        for attr, value in attrs:\n",
    "            print(\"->\", attr, \">\", value)\n",
    "\n",
    "    def handle_startendtag(self, tag, attrs):\n",
    "        print(tag)\n",
    "        for attr, value in attrs:\n",
    "            print(\"->\", attr, \">\", value)\n",
    "\n",
    "html = ''\n",
    "for _ in range(int(input())):\n",
    "    html += input().rstrip() + '\\n'\n",
    "\n",
    "parser = miaclasse()\n",
    "parser.feed(html)\n",
    "parser.close()"
   ]
  },
  {
   "cell_type": "markdown",
   "id": "8eaf5d2d",
   "metadata": {},
   "source": [
    "#### Validating UID\n",
    "\n"
   ]
  },
  {
   "cell_type": "code",
   "execution_count": null,
   "id": "706c0baa",
   "metadata": {},
   "outputs": [],
   "source": [
    "import re\n",
    "\n",
    "for i in range(int(input())):\n",
    "    N = input().strip()\n",
    "    if N.isalnum() and len(N) == 10:\n",
    "        if bool(re.search(r'(.*[A-Z]){2,}',N)) and bool(re.search(r'(.*[0-9]){3,}',N)):\n",
    "            if re.search(r'.*(.).*\\1+.*',N):\n",
    "                print('Invalid')\n",
    "            else:\n",
    "                print('Valid')\n",
    "        else:\n",
    "            print('Invalid')\n",
    "    else:\n",
    "        print('Invalid')"
   ]
  },
  {
   "cell_type": "markdown",
   "id": "82341faa",
   "metadata": {},
   "source": [
    "#### Validating Credit Card Numbers"
   ]
  },
  {
   "cell_type": "code",
   "execution_count": null,
   "id": "52d8924f",
   "metadata": {},
   "outputs": [],
   "source": [
    "import re\n",
    "TESTER = re.compile(\n",
    "    r\"^\"\n",
    "    r\"(?!.*(\\d)(-?\\1){3})\"\n",
    "    r\"[456]\"\n",
    "    r\"\\d{3}\"\n",
    "    r\"(?:-?\\d{4}){3}\"\n",
    "    r\"$\")\n",
    "for _ in range(int(input().strip())):\n",
    "    print(\"Valid\" if TESTER.search(input().strip()) else \"Invalid\")\n"
   ]
  },
  {
   "cell_type": "markdown",
   "id": "065a0241",
   "metadata": {},
   "source": [
    "#### Validating Postal Codes\n"
   ]
  },
  {
   "cell_type": "code",
   "execution_count": null,
   "id": "4e0fbbd7",
   "metadata": {},
   "outputs": [],
   "source": [
    "regex_integer_in_range = r\"^[1-9][\\d]{5}$\"\n",
    "regex_alternating_repetitive_digit_pair = r\"(\\d)(?=\\d\\1)\"    \n",
    "\n",
    "\n",
    "import re\n",
    "P = raw_input()\n",
    "\n",
    "print (bool(re.match(regex_integer_in_range, P)) \n",
    "and len(re.findall(regex_alternating_repetitive_digit_pair, P)) < 2)"
   ]
  },
  {
   "cell_type": "markdown",
   "id": "11f41d2d",
   "metadata": {},
   "source": [
    "#### Matrix Script"
   ]
  },
  {
   "cell_type": "code",
   "execution_count": null,
   "id": "d959ecd3",
   "metadata": {},
   "outputs": [],
   "source": [
    "import math\n",
    "import os\n",
    "import random\n",
    "import re\n",
    "import sys\n",
    "\n",
    "primo_inp = input().rstrip().split()\n",
    "\n",
    "n = int(primo_inp[0])\n",
    "m = int(primo_inp[1])\n",
    "\n",
    "matrix = []\n",
    "\n",
    "for _ in range(n):\n",
    "    matrix_item = input()\n",
    "    matrix.append(matrix_item)\n",
    "\n",
    "# start   \n",
    "matrix = list(zip(*matrix))\n",
    "\n",
    "sample = str()\n",
    "\n",
    "for words in matrix:\n",
    "    for char in words:\n",
    "        sample += char\n",
    "       \n",
    "print(re.sub(r'(?<=\\w)([^\\w\\d]+)(?=\\w)', ' ', sample))\n",
    "#i looked at the solution for this exercise\n"
   ]
  },
  {
   "cell_type": "markdown",
   "id": "7b8c3a39",
   "metadata": {},
   "source": [
    "#### XML 1 - Find the Score"
   ]
  },
  {
   "cell_type": "code",
   "execution_count": null,
   "id": "6f86e706",
   "metadata": {},
   "outputs": [],
   "source": [
    "import sys\n",
    "import xml.etree.ElementTree as etree\n",
    "\n",
    "\n",
    "def get_attr_number(node):\n",
    "    return len(node.attrib) + sum(get_attr_number(a) for a in node);\n",
    "\n",
    "if __name__ == '__main__':\n",
    "    sys.stdin.readline()\n",
    "    xml = sys.stdin.read()\n",
    "    tree = etree.ElementTree(etree.fromstring(xml))\n",
    "    root = tree.getroot()\n",
    "    print get_attr_number(root)"
   ]
  },
  {
   "cell_type": "markdown",
   "id": "117f4d50",
   "metadata": {},
   "source": [
    "#### XML2 - Find the Maximum Depth"
   ]
  },
  {
   "cell_type": "code",
   "execution_count": null,
   "id": "aaa07e57",
   "metadata": {},
   "outputs": [],
   "source": [
    "import xml.etree.ElementTree as etree\n",
    "\n",
    "maxdepth = 0\n",
    "def depth(elem, level):\n",
    "    global maxdepth\n",
    "    if (level == maxdepth):\n",
    "        maxdepth += 1\n",
    "    for _ in elem:\n",
    "        depth(_, level + 1)\n",
    "\n",
    "if _name_ == '_main_':\n",
    "    n = int(raw_input())\n",
    "    xml = \"\"\n",
    "    for i in range(n):\n",
    "        xml =  xml + raw_input() + \"\\n\"\n",
    "    tree = etree.ElementTree(etree.fromstring(xml))\n",
    "    depth(tree.getroot(), -1)\n",
    "    print maxdepth\n",
    "#i looked at the solution for this exercise"
   ]
  },
  {
   "cell_type": "markdown",
   "id": "feeae913",
   "metadata": {},
   "source": [
    "#### Standardize Mobile Number Using Decorators"
   ]
  },
  {
   "cell_type": "code",
   "execution_count": null,
   "id": "555a3e0a",
   "metadata": {},
   "outputs": [],
   "source": [
    "def wrapper(f):\n",
    "    def fun(l):\n",
    "         f(['+91 ' + i[-10:-5] + ' ' + i[-5:] for i in l])\n",
    "    return fun\n",
    "\n",
    "@wrapper\n",
    "def sort_phone(l):\n",
    "    print '\\n'.join(sorted(l))\n",
    "\n",
    "if __name__ == '__main__':\n",
    "    l = [raw_input() for _ in range(int(input()))]\n",
    "    sort_phone(l) "
   ]
  },
  {
   "cell_type": "markdown",
   "id": "ab8dc9bb",
   "metadata": {},
   "source": [
    "#### Decorators 2 - Name Directory"
   ]
  },
  {
   "cell_type": "code",
   "execution_count": null,
   "id": "45c3c57d",
   "metadata": {},
   "outputs": [],
   "source": [
    "import operator\n",
    "\n",
    "def person_lister(k):\n",
    "    def inner(p):\n",
    "        return map(k, sorted(p, key=lambda x: int(x[2])))\n",
    "\n",
    "    return inner\n",
    "\n",
    "@person_lister\n",
    "def name_format(person):\n",
    "    return (\"Mr. \" if person[3] == \"M\" else \"Ms. \") + person[0] + \" \" + person[1]\n",
    "\n",
    "if __name__ == '__main__':\n",
    "    people = [raw_input().split() for i in range(int(raw_input()))]\n",
    "    print '\\n'.join(name_format(people))"
   ]
  },
  {
   "cell_type": "markdown",
   "id": "50dc777b",
   "metadata": {},
   "source": [
    "#### Arrays"
   ]
  },
  {
   "cell_type": "code",
   "execution_count": null,
   "id": "c8d6a014",
   "metadata": {},
   "outputs": [],
   "source": [
    "import numpy\n",
    "\n",
    "\n",
    "def arrays(arr):\n",
    "    v=numpy.array(arr,float)\n",
    "    v=numpy.flip(v)\n",
    "    return v\n",
    "arr = input().strip().split(' ')\n",
    "result = arrays(arr)\n",
    "print(result)"
   ]
  },
  {
   "cell_type": "markdown",
   "id": "8b9f1025",
   "metadata": {},
   "source": [
    "#### Shape and Reshape"
   ]
  },
  {
   "cell_type": "code",
   "execution_count": null,
   "id": "c8c9abcb",
   "metadata": {},
   "outputs": [],
   "source": [
    "import numpy\n",
    "vett=numpy.array([map(int,raw_input().split())])\n",
    "print numpy.reshape(vett,(3,3))\n"
   ]
  },
  {
   "cell_type": "markdown",
   "id": "3866ff6a",
   "metadata": {},
   "source": [
    "#### Transpose and Flatten\n"
   ]
  },
  {
   "cell_type": "code",
   "execution_count": null,
   "id": "e4a715a7",
   "metadata": {},
   "outputs": [],
   "source": [
    "import numpy\n",
    "n, m = map(int, input().split())\n",
    "array = numpy.array([input().strip().split() for _ in range(n)], int)\n",
    "print (array.transpose())\n",
    "print (array.flatten())"
   ]
  },
  {
   "cell_type": "markdown",
   "id": "bbce3778",
   "metadata": {},
   "source": [
    "#### Concatenate"
   ]
  },
  {
   "cell_type": "code",
   "execution_count": null,
   "id": "154e34ef",
   "metadata": {},
   "outputs": [],
   "source": [
    "# Enter your code here. Read input from STDIN. Print output to STDOUT\n",
    "import numpy\n",
    "n,m,p=map(int,input().split())\n",
    "\n",
    "array1 = numpy.array([input().strip().split() for _ in range(n)], int)\n",
    "array2 = numpy.array([input().strip().split() for _ in range(m)], int)\n",
    "\n",
    "print (numpy.concatenate((array1, array2), axis = 0))"
   ]
  },
  {
   "cell_type": "markdown",
   "id": "0679708e",
   "metadata": {},
   "source": [
    "#### Zeros and ones"
   ]
  },
  {
   "cell_type": "code",
   "execution_count": null,
   "id": "b3ceb494",
   "metadata": {},
   "outputs": [],
   "source": [
    "import numpy\n",
    "N = tuple(map(int, input().split()))\n",
    "print(numpy.zeros(N, int))\n",
    "print(numpy.ones(N, int))"
   ]
  },
  {
   "cell_type": "markdown",
   "id": "f1b922b0",
   "metadata": {},
   "source": [
    "#### Eye and Identity\n",
    "\n"
   ]
  },
  {
   "cell_type": "code",
   "execution_count": null,
   "id": "8f090618",
   "metadata": {},
   "outputs": [],
   "source": [
    "import numpy\n",
    "numpy.set_printoptions(legacy='1.13')\n",
    "n,m=map(int,raw_input().split())\n",
    "\n",
    "print numpy.eye(n,m,0) "
   ]
  },
  {
   "cell_type": "markdown",
   "id": "c4472c1b",
   "metadata": {},
   "source": [
    "#### Array Mathematics"
   ]
  },
  {
   "cell_type": "code",
   "execution_count": null,
   "id": "d54cf49a",
   "metadata": {},
   "outputs": [],
   "source": [
    "import numpy\n",
    "n,m= map(int,raw_input().split())\n",
    "a=numpy.array([map(int, raw_input().split()) for i in range(n)])\n",
    "b=numpy.array([map(int, raw_input().split()) for i in range(n)])\n",
    "print numpy.add(a, b) \n",
    "print numpy.subtract(a, b)      \n",
    "print numpy.multiply(a, b) \n",
    "print numpy.divide(a, b)\n",
    "print numpy.mod(a, b)\n",
    "print numpy.power(a, b)"
   ]
  },
  {
   "cell_type": "markdown",
   "id": "6ff4e7c4",
   "metadata": {},
   "source": [
    "#### Floor, Ceil and Rint"
   ]
  },
  {
   "cell_type": "code",
   "execution_count": null,
   "id": "92768f14",
   "metadata": {},
   "outputs": [],
   "source": [
    "import numpy\n",
    "\n",
    "numpy.set_printoptions(legacy='1.13')\n",
    "\n",
    "a = numpy.array(input().split(),float)\n",
    "\n",
    "print(numpy.floor(a))\n",
    "print(numpy.ceil(a))\n",
    "print(numpy.rint(a))"
   ]
  },
  {
   "cell_type": "markdown",
   "id": "6a170d41",
   "metadata": {},
   "source": []
  },
  {
   "cell_type": "markdown",
   "id": "44d729d9",
   "metadata": {},
   "source": [
    "#### Sum and Prod"
   ]
  },
  {
   "cell_type": "code",
   "execution_count": null,
   "id": "0717a700",
   "metadata": {},
   "outputs": [],
   "source": [
    "import numpy\n",
    "\n",
    "N, M = map(int, input().split())\n",
    "A = numpy.array([input().split() for _ in range(N)], int)\n",
    "print(numpy.prod(numpy.sum(A, axis=0), axis=0))"
   ]
  },
  {
   "cell_type": "markdown",
   "id": "5a5878a6",
   "metadata": {},
   "source": [
    "#### Min and Max"
   ]
  },
  {
   "cell_type": "code",
   "execution_count": null,
   "id": "68e56961",
   "metadata": {},
   "outputs": [],
   "source": [
    "import numpy\n",
    "N, M = map(int, input().split())\n",
    "arr = numpy.array([input().split() for _ in range(N)],int)\n",
    "print(numpy.max(numpy.min(arr, axis=1), axis=0))\n"
   ]
  },
  {
   "cell_type": "markdown",
   "id": "89176a20",
   "metadata": {},
   "source": [
    "#### Mean, Var, and Std"
   ]
  },
  {
   "cell_type": "code",
   "execution_count": null,
   "id": "a68a219c",
   "metadata": {},
   "outputs": [],
   "source": [
    "import numpy\n",
    "n,m=map(int,raw_input().split())\n",
    "vett1=numpy.array([map(int, raw_input().split()) for i in range(n)])\n",
    "print numpy.mean(vett1,axis=1)\n",
    "print numpy.var(vett1,axis=0)\n",
    "print round(numpy.std(vett1),11)"
   ]
  },
  {
   "cell_type": "markdown",
   "id": "f793428c",
   "metadata": {},
   "source": [
    "#### Dot and Cross\n"
   ]
  },
  {
   "cell_type": "code",
   "execution_count": null,
   "id": "c2559bf1",
   "metadata": {},
   "outputs": [],
   "source": [
    "import numpy\n",
    "\n",
    "n = int(input())\n",
    "a = numpy.array([input().split() for _ in range(n)], int)\n",
    "b = numpy.array([input().split() for _ in range(n)], int)\n",
    "print(numpy.dot(a, b))"
   ]
  },
  {
   "cell_type": "markdown",
   "id": "7a706da7",
   "metadata": {},
   "source": [
    "#### Inner and Outer"
   ]
  },
  {
   "cell_type": "code",
   "execution_count": null,
   "id": "b9ec2ac5",
   "metadata": {},
   "outputs": [],
   "source": [
    "import numpy\n",
    "vett1=numpy.array([map(int, raw_input().split())])\n",
    "vett2=numpy.array([map(int, raw_input().split())])\n",
    "print int(numpy.inner(vett1,vett2))\n",
    "print numpy.outer(vett1,vett2)"
   ]
  },
  {
   "cell_type": "markdown",
   "id": "9f1dffbe",
   "metadata": {},
   "source": [
    "#### Polynomials"
   ]
  },
  {
   "cell_type": "code",
   "execution_count": null,
   "id": "ff27c403",
   "metadata": {},
   "outputs": [],
   "source": [
    "import numpy \n",
    "\n",
    "polinomio = [float(x) for x in input().split()]\n",
    "x = float(input())\n",
    "print(numpy.polyval(polinomio, x))"
   ]
  },
  {
   "cell_type": "markdown",
   "id": "6c36a865",
   "metadata": {},
   "source": [
    "#### Linear Algebra"
   ]
  },
  {
   "cell_type": "code",
   "execution_count": null,
   "id": "b9211a15",
   "metadata": {},
   "outputs": [],
   "source": [
    "\n",
    "import numpy \n",
    "n = int(input())\n",
    "array = numpy.array([input().split() for _ in range(n)], float)\n",
    "print(round(numpy.linalg.det(array),2))"
   ]
  },
  {
   "cell_type": "markdown",
   "id": "0617be47",
   "metadata": {},
   "source": [
    "#### Birthday Cake Candles"
   ]
  },
  {
   "cell_type": "code",
   "execution_count": null,
   "id": "53bae0f2",
   "metadata": {},
   "outputs": [],
   "source": [
    "\n",
    "import math\n",
    "import os\n",
    "import random\n",
    "import re\n",
    "import sys\n",
    "\n",
    "\n",
    "\n",
    "def birthdayCakeCandles(candles):\n",
    "    c = 0\n",
    "    temp = candles[0]\n",
    "    for i in range(1,len(candles)):\n",
    "        if candles[i] > temp:\n",
    "            temp = candles[i]\n",
    "    for i in range(0,len(candles)):\n",
    "        if candles[i] == temp:\n",
    "            c = c + 1\n",
    "    return c\n",
    "\n",
    "    \n",
    "if __name__ == '__main__':\n",
    "    fptr = open(os.environ['OUTPUT_PATH'], 'w')\n",
    "\n",
    "    candles_count = int(raw_input().strip())\n",
    "\n",
    "    candles = map(int, raw_input().rstrip().split())\n",
    "\n",
    "    result = birthdayCakeCandles(candles)\n",
    "\n",
    "    fptr.write(str(result) + '\\n')\n",
    "\n",
    "    fptr.close()"
   ]
  },
  {
   "cell_type": "markdown",
   "id": "e44b1f3d",
   "metadata": {},
   "source": [
    "#### kangaroo"
   ]
  },
  {
   "cell_type": "code",
   "execution_count": null,
   "id": "e6777cea",
   "metadata": {},
   "outputs": [],
   "source": [
    "#!/bin/python\n",
    "\n",
    "import math\n",
    "import os\n",
    "import random\n",
    "import re\n",
    "import sys\n",
    "\n",
    "#\n",
    "# Complete the 'kangaroo' function below.\n",
    "#\n",
    "# The function is expected to return a STRING.\n",
    "# The function accepts following parameters:\n",
    "#  1. INTEGER x1\n",
    "#  2. INTEGER v1\n",
    "#  3. INTEGER x2\n",
    "#  4. INTEGER v2\n",
    "#\n",
    "\n",
    "def kangaroo(x1, v1, x2, v2):\n",
    "    if (v1 > v2) and (x2 - x1) % (v2 - v1) == 0:\n",
    "        return \"YES\"\n",
    "    else:\n",
    "        return \"NO\"\n",
    "      \n",
    "    \n",
    "  \n",
    "if __name__ == '__main__':\n",
    "    fptr = open(os.environ['OUTPUT_PATH'], 'w')\n",
    "\n",
    "    first_multiple_input = raw_input().rstrip().split()\n",
    "\n",
    "    x1 = int(first_multiple_input[0])\n",
    "\n",
    "    v1 = int(first_multiple_input[1])\n",
    "\n",
    "    x2 = int(first_multiple_input[2])\n",
    "\n",
    "    v2 = int(first_multiple_input[3])\n",
    "\n",
    "    result = kangaroo(x1, v1, x2, v2)\n",
    "\n",
    "    fptr.write(result + '\\n')\n",
    "\n",
    "    fptr.close()\n"
   ]
  },
  {
   "cell_type": "markdown",
   "id": "c7f56373",
   "metadata": {},
   "source": [
    "#### Viral Advertising"
   ]
  },
  {
   "cell_type": "code",
   "execution_count": null,
   "id": "de717d30",
   "metadata": {},
   "outputs": [],
   "source": [
    "import math\n",
    "import os\n",
    "import random\n",
    "import re\n",
    "import sys\n",
    "\n",
    "#\n",
    "# Complete the 'viralAdvertising' function below.\n",
    "#\n",
    "# The function is expected to return an INTEGER.\n",
    "# The function accepts INTEGER n as parameter.\n",
    "#\n",
    "\n",
    "def viralAdvertising(n):\n",
    "    liked=2\n",
    "    tot=5\n",
    "    cum=2\n",
    "    for i in range(1,n):\n",
    "        tot=int(tot/2)*3\n",
    "        liked=int(tot/2)\n",
    "        cum=cum+liked\n",
    "    return cum\n",
    "\n",
    "if __name__ == '__main__':\n",
    "    fptr = open(os.environ['OUTPUT_PATH'], 'w')\n",
    "\n",
    "    n = int(raw_input().strip())\n",
    "\n",
    "    result = viralAdvertising(n)\n",
    "\n",
    "    fptr.write(str(result) + '\\n')\n",
    "\n",
    "    fptr.close()\n"
   ]
  },
  {
   "cell_type": "markdown",
   "id": "d93b8b82",
   "metadata": {},
   "source": [
    "#### Recursive Digit Sum"
   ]
  },
  {
   "cell_type": "code",
   "execution_count": null,
   "id": "395603fb",
   "metadata": {},
   "outputs": [],
   "source": [
    "import math\n",
    "import os\n",
    "import random\n",
    "import re\n",
    "import sys\n",
    "\n",
    "#\n",
    "# Complete the 'superDigit' function below.\n",
    "#\n",
    "# The function is expected to return an INTEGER.\n",
    "# The function accepts following parameters:\n",
    "#  1. STRING n\n",
    "#  2. INTEGER k\n",
    "#\n",
    "\n",
    "def superDigit(n, k):\n",
    "    return 1 + (k * sum(int(x) for x in n) - 1) % 9\n",
    "\n",
    "if __name__ == '__main__':\n",
    "    fptr = open(os.environ['OUTPUT_PATH'], 'w')\n",
    "\n",
    "    first_multiple_input = raw_input().rstrip().split()\n",
    "\n",
    "    n = first_multiple_input[0]\n",
    "\n",
    "    k = int(first_multiple_input[1])\n",
    "\n",
    "    result = superDigit(n, k)\n",
    "\n",
    "    fptr.write(str(result) + '\\n')\n",
    "\n",
    "    fptr.close()\n"
   ]
  },
  {
   "cell_type": "markdown",
   "id": "89efbbe9",
   "metadata": {},
   "source": [
    "#### Insertion Sort - Part 1"
   ]
  },
  {
   "cell_type": "code",
   "execution_count": null,
   "id": "468532ea",
   "metadata": {},
   "outputs": [],
   "source": [
    "   #!/bin/python3\n",
    "\n",
    "import math\n",
    "import os\n",
    "import random\n",
    "import re\n",
    "import sys\n",
    "\n",
    "#\n",
    "# Complete the 'insertionSort1' function below.\n",
    "#\n",
    "# The function accepts following parameters:\n",
    "#  1. INTEGER n\n",
    "#  2. INTEGER_ARRAY arr\n",
    "#\n",
    "\n",
    "def insertionSort1(n, arr):\n",
    "    j = arr[-1]\n",
    "    i = n-2\n",
    "\n",
    "    while (j < arr[i]) and (i >= 0):\n",
    "        arr[i+1] = arr[i]\n",
    "        print(*arr)\n",
    "        i -= 1\n",
    "\n",
    "    arr[i+1] = j\n",
    "    print(*arr)\n",
    "    \n",
    "    \n",
    "if __name__ == '__main__':\n",
    "    n = int(input().strip())\n",
    "\n",
    "    arr = list(map(int, input().rstrip().split()))\n",
    "\n",
    "    insertionSort1(n, arr)\n"
   ]
  },
  {
   "cell_type": "markdown",
   "id": "d9dfe903",
   "metadata": {},
   "source": [
    "#### Insertion Sort - Part 2"
   ]
  },
  {
   "cell_type": "code",
   "execution_count": null,
   "id": "2c58b64c",
   "metadata": {},
   "outputs": [],
   "source": [
    "\n",
    "import sys\n",
    "\n",
    "def insertionSort1(start, arr):\n",
    "    k = arr[start]\n",
    "    \n",
    "    for i in range(start-1, -1, -1):\n",
    "        if arr[i] > k:\n",
    "            arr[i+1] = arr[i]\n",
    "        else:\n",
    "            arr[i+1] = k\n",
    "            break\n",
    "    if arr[0] > k:\n",
    "        arr[0] = k\n",
    "\n",
    "def insertionSort2(n, arr):\n",
    "    for i in range(1, len(arr)):\n",
    "        insertionSort1(i, arr)\n",
    "        print(\" \".join(map(str, arr)))\n",
    "\n",
    "if __name__ == \"__main__\":\n",
    "    n = int(input().strip())\n",
    "    arr = list(map(int, input().strip().split(' ')))\n",
    "    insertionSort2(n, arr)"
   ]
  }
 ],
 "metadata": {
  "kernelspec": {
   "display_name": "Python 3",
   "language": "python",
   "name": "python3"
  },
  "language_info": {
   "codemirror_mode": {
    "name": "ipython",
    "version": 3
   },
   "file_extension": ".py",
   "mimetype": "text/x-python",
   "name": "python",
   "nbconvert_exporter": "python",
   "pygments_lexer": "ipython3",
   "version": "3.8.8"
  }
 },
 "nbformat": 4,
 "nbformat_minor": 5
}
